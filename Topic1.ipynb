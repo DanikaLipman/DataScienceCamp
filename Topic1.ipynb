{
  "cells": [
    {
      "cell_type": "markdown",
      "source": [
        "# $\\color{violet}{\\text{Welcome To Data Science Camp!}}$\n",
        "\n",
        "## $\\color{olive}{\\text{What is Data Science?}}$\n",
        "\n",
        "- Data science is a  field that uses techniques from statistics, computer science, and domain expertise to extract insights and knowledge from data\n",
        "- Data science includes:\n",
        "  - Data Collection\n",
        "  - Data Cleaning\n",
        "  - Exploratory Data Analysis (EDA)\n",
        "    - Visualizing and summarizing data to understand patterns.\n",
        "  - Statistical Modeling & Machine Learning\n",
        "- In this camp we will focus on Exploratory Data Analysis!"
      ],
      "metadata": {
        "id": "Qti9GYQ5ezMB"
      },
      "id": "Qti9GYQ5ezMB"
    },
    {
      "cell_type": "markdown",
      "source": [
        "# $\\color{violet}{\\text{Module 1: Learning to Work With R}}$"
      ],
      "metadata": {
        "id": "9rCKwO9FWtnQ"
      },
      "id": "9rCKwO9FWtnQ"
    },
    {
      "cell_type": "markdown",
      "id": "1c9ffa7b-341c-4c2a-a0b3-7c73f0acd62f",
      "metadata": {
        "id": "1c9ffa7b-341c-4c2a-a0b3-7c73f0acd62f"
      },
      "source": [
        "In this worksheet, we will be working with a data set from Kaggle that contains information about 263 of the most poopular tiktok songs in 2022.\n",
        "\n",
        "citation: Svetlana C. (2022). Tiktok popular songs 2022,  Retrieved May 1 2025 from https://www.kaggle.com/datasets/sveta151/tiktok-popular-songs-2022/data.\n",
        "\n"
      ]
    },
    {
      "cell_type": "markdown",
      "id": "7515a16c-c928-4ca8-8426-3d22f346b90f",
      "metadata": {
        "tags": [],
        "id": "7515a16c-c928-4ca8-8426-3d22f346b90f"
      },
      "source": [
        "The dataset includes the following variables. Descriptions of the variables are provided by the poster on Kaggle.\n",
        "\n",
        "- **track_name**: the title of the track\n",
        "- **artist_name**: the artist name\n",
        "- **artist_pop**: popularity of the artist scored between 0 and 100, with 0 being the lowest popularity and 100 being the highest popularity.\n",
        "- **album**: The name of the album\n",
        "- **track_pop**: popularity of the song scored between 0 and 100, with 0 being the lowest popularity and 100 being the highest popularity.\n",
        "- **danceability**: Danceability describes how suitable a track is for dancing based on a combination of musical elements including tempo, rhythm stability, beat strength, and overall regularity. A value of 0.0 is least danceable and 1.0 is most danceable.\n",
        "- **energy**: Energy is a measure from 0.0 to 1.0 and represents a perceptual measure of intensity and activity. Typically, energetic tracks feel fast, loud, and noisy. For example, death metal has high energy, while a Bach prelude scores low on the scale. Perceptual features contributing to this attribute include dynamic range, perceived loudness, timbre, onset rate, and general entropy.\n",
        "- **loudness**: The overall loudness of a track in decibels (dB). Loudness values are averaged across the entire track and are useful for comparing relative loudness of tracks. Values typically range between -60 and 0 db.\n",
        "- **mode**: Mode indicates the modality (major or minor) of a track, the type of scale from which its melodic content is derived. Major is represented by 1 and minor is 0.\n",
        "- **key**: The key the track is in. Integers map to pitches using standard Pitch Class notation. If no key was detected it was assigned a -1.\n",
        "  - 0 = C\n",
        "  - 1 = C♯/D♭\n",
        "  - 2 = D\n",
        "  - 3 = D♯/E♭\n",
        "  - 4 = E\n",
        "  - 5 = F\n",
        "  - 6 = F♯/G♭\n",
        "  - 7 = G\n",
        "  - 8 = G♯/A♭\n",
        "  - 9 = A\n",
        "  - 10 = A♯/B♭\n",
        "  - 11 = B\n",
        "- **speechiness**: Speechiness detects the presence of spoken words in a track. The more exclusively speech-like the recording (e.g. talk show, audio book, poetry), the closer to 1.0 the attribute value. Values above 0.66 describe tracks that are probably made entirely of spoken words. Values between 0.33 and 0.66 describe tracks that may contain both music and speech, either in sections or layered, including such cases as rap music. Values below 0.33 most likely represent music and other non-speech-like tracks.\n",
        "- **acousticness**: A confidence measure from 0.0 to 1.0 of whether the track is acoustic. 1.0 represents high confidence the track is acoustic.\n",
        "- **instrumentalness**: Predicts whether a track contains no vocals. \"Ooh\" and \"aah\" sounds are treated as instrumental in this context. Rap or spoken word tracks are clearly \"vocal\". The closer the instrumentalness value is to 1.0, the greater likelihood the track contains no vocal content. Values above 0.5 are intended to represent instrumental tracks, but confidence is higher as the value approaches 1.0.\n",
        "- **liveness**: Detects the presence of an audience in the recording. Higher liveness values represent an increased probability that the track was performed live. A value above 0.8 provides strong likelihood that the track is live.\n",
        "- **valence**: A measure from 0.0 to 1.0 describing the musical positiveness conveyed by a track. Tracks with high valence sound more positive (e.g. happy, cheerful, euphoric), while tracks with low valence sound more negative (e.g. sad, depressed, angry).\n",
        "- **tempo**: The overall estimated tempo of a track in beats per minute (BPM). In musical terminology, tempo is the speed or pace of a given piece and derives directly from the average beat duration.\n",
        "- **time_signature**: An estimated time signature. The time signature is a notational convention to specify how many beats are in each bar. The time signature ranges from 3 to 7 indicating time signatures of \"3/4\", to \"7/4\".\n",
        "- **duration**: The duration of the track in milliseconds."
      ]
    },
    {
      "cell_type": "markdown",
      "source": [
        "\n",
        "# $\\color{cyan}{\\text{Learning to Work With R}}$\n",
        "\n",
        "- We will be analyzing the datasets using a computer programming language called R.\n",
        "\n",
        "- Before we begin our data analysis, lets learn some of the basics to the coding language.\n",
        "\n",
        "- We can perform basic operation in R such as addition, multiplication, exponents, subtraction and division.\n",
        "\n",
        "- **NOTE**: To put comments into R we can use # then type whatever your comment is. This is a line in the code that is not run.\n",
        "\n",
        "- **NOTE**: To run a chunk of code in this notebook, hit the play button to the left of the code chunk.\n",
        "\n",
        "- Let's try it! If we want to find the answer to $(5+2)^2 -6 \\div 3$ we can input this into R as:"
      ],
      "metadata": {
        "id": "NbzQWBZqvfYX"
      },
      "id": "NbzQWBZqvfYX"
    },
    {
      "cell_type": "code",
      "source": [
        "#this is a comment! This will not run. Rather, it is a note for the coder.\n",
        "(5+2)^2 -6/3"
      ],
      "metadata": {
        "colab": {
          "base_uri": "https://localhost:8080/",
          "height": 34
        },
        "id": "TJhoqzARNTAh",
        "outputId": "8763d951-7a31-43c3-d41b-dbb7acf9d978"
      },
      "id": "TJhoqzARNTAh",
      "execution_count": null,
      "outputs": [
        {
          "output_type": "display_data",
          "data": {
            "text/html": [
              "47"
            ],
            "text/markdown": "47",
            "text/latex": "47",
            "text/plain": [
              "[1] 47"
            ]
          },
          "metadata": {}
        }
      ]
    },
    {
      "cell_type": "markdown",
      "source": [
        "### $\\color{magenta}{\\text{Your Turn!}}$\n",
        "\n",
        " In the code chunk below, compute $(5-2)^2 +12 \\div 4$"
      ],
      "metadata": {
        "id": "ECP4t8wlNSqg"
      },
      "id": "ECP4t8wlNSqg"
    },
    {
      "cell_type": "code",
      "source": [
        "#enter your code here."
      ],
      "metadata": {
        "id": "GPW0xUtRN4yi"
      },
      "id": "GPW0xUtRN4yi",
      "execution_count": null,
      "outputs": []
    },
    {
      "cell_type": "markdown",
      "source": [
        "## $\\color{olive}{\\text{Functions}}$\n",
        "\n",
        "\n",
        "\n",
        "\n",
        "Great work! Now we will talk about funcitons.\n",
        "\n",
        "A function in coding is a chunk of code that performs a specific task. For example, in R the function sqrt() will find the square root of a number.\n",
        "\n",
        "The value we put into the brackets is the \"argument\" of the function. Let's find the square root of 9, for example."
      ],
      "metadata": {
        "id": "OTMeidpzN9Dq"
      },
      "id": "OTMeidpzN9Dq"
    },
    {
      "cell_type": "code",
      "source": [
        "sqrt(9)"
      ],
      "metadata": {
        "id": "MneIZdvzOdW_"
      },
      "id": "MneIZdvzOdW_",
      "execution_count": null,
      "outputs": []
    },
    {
      "cell_type": "markdown",
      "source": [
        "### $\\color{magenta}{\\text{Your Turn!}}$\n",
        "\n",
        " Find the square root of 49 using the sqaure root function."
      ],
      "metadata": {
        "id": "i6c95MuTOgYY"
      },
      "id": "i6c95MuTOgYY"
    },
    {
      "cell_type": "code",
      "source": [
        "#enter your code here"
      ],
      "metadata": {
        "id": "39d_OUzJOkRr"
      },
      "id": "39d_OUzJOkRr",
      "execution_count": null,
      "outputs": []
    },
    {
      "cell_type": "markdown",
      "source": [
        "Great job! In R we can also print out words using the print function, and putting the string of words in quotations. For example we can make R return \"Hello World!\""
      ],
      "metadata": {
        "id": "mUil4v64On5h"
      },
      "id": "mUil4v64On5h"
    },
    {
      "cell_type": "code",
      "source": [
        "print(\"Hello World\") #Run this line of code by hitting the \"play\" button"
      ],
      "metadata": {
        "id": "fnQPyxoeO2sY"
      },
      "id": "fnQPyxoeO2sY",
      "execution_count": null,
      "outputs": []
    },
    {
      "cell_type": "markdown",
      "source": [
        "### $\\color{magenta}{\\text{Your Turn!}}$\n",
        "\n",
        " Make R print out \"My name is [your name here]\""
      ],
      "metadata": {
        "id": "ZgVFAaWLO-I8"
      },
      "id": "ZgVFAaWLO-I8"
    },
    {
      "cell_type": "code",
      "source": [
        "#Enter your code here"
      ],
      "metadata": {
        "id": "b-_LPIzqO7VM"
      },
      "id": "b-_LPIzqO7VM",
      "execution_count": null,
      "outputs": []
    },
    {
      "cell_type": "markdown",
      "source": [
        "# $\\color{olive}{\\text{The Average\\Mean}}$\n",
        "\n",
        "When working data, we are often interested in averages. An average is what is expected, or typical. We find the average of a set of numbers by adding them together, and dividing the sum by how many numbers we have.\n",
        "\n",
        "- For example the average or mean of 5,8,7,3,2 is $(5+8+7+3+2)\\div 5$.\n",
        "\n",
        "R has a function, mean(), that computes the average of the argument.\n",
        "\n",
        "To use this function we will start by creating what we call a variable.\n",
        "\n",
        "- Variable: Variables are containers for storing data.\n",
        "\n",
        "We want to create one variable that holds all of these values in what we call a vector. We can create vecors in R using the function c(), with the argument being the values we would like in the vector.\n",
        "\n",
        "Let's create a vector of our values 5,8,7,3,2, then let's save it in a variable that we call \"x\"."
      ],
      "metadata": {
        "id": "Z6qvkkxAPg0T"
      },
      "id": "Z6qvkkxAPg0T"
    },
    {
      "cell_type": "code",
      "source": [
        "#To create a vector of these values, we use the c command.\n",
        "c(5,8,7,3,2)\n",
        "#to save this as a variable called \"x\" we run the following line\n",
        "x = c(5,8,7,3,2)\n",
        "# we can then print out x, using the print function\n",
        "print(x)\n"
      ],
      "metadata": {
        "colab": {
          "base_uri": "https://localhost:8080/",
          "height": 70
        },
        "id": "gj1nZb40R2IB",
        "outputId": "41d00fc7-7147-4734-8a81-bca76a424213"
      },
      "id": "gj1nZb40R2IB",
      "execution_count": null,
      "outputs": [
        {
          "output_type": "display_data",
          "data": {
            "text/html": [
              "<style>\n",
              ".list-inline {list-style: none; margin:0; padding: 0}\n",
              ".list-inline>li {display: inline-block}\n",
              ".list-inline>li:not(:last-child)::after {content: \"\\00b7\"; padding: 0 .5ex}\n",
              "</style>\n",
              "<ol class=list-inline><li>5</li><li>8</li><li>7</li><li>3</li><li>2</li></ol>\n"
            ],
            "text/markdown": "1. 5\n2. 8\n3. 7\n4. 3\n5. 2\n\n\n",
            "text/latex": "\\begin{enumerate*}\n\\item 5\n\\item 8\n\\item 7\n\\item 3\n\\item 2\n\\end{enumerate*}\n",
            "text/plain": [
              "[1] 5 8 7 3 2"
            ]
          },
          "metadata": {}
        },
        {
          "output_type": "stream",
          "name": "stdout",
          "text": [
            "[1] 5 8 7 3 2\n",
            "[1]  7 10  9  5  4\n"
          ]
        }
      ]
    },
    {
      "cell_type": "markdown",
      "source": [
        "Let's say we wanted to add 2 to every entry in x and save it as a new variable, called new_x. This is how we do it:\n"
      ],
      "metadata": {
        "id": "QD8XK49tSckD"
      },
      "id": "QD8XK49tSckD"
    },
    {
      "cell_type": "code",
      "source": [
        "new_x= x+2\n",
        "print(new_x)"
      ],
      "metadata": {
        "id": "JtyQBuAWSgG2"
      },
      "id": "JtyQBuAWSgG2",
      "execution_count": null,
      "outputs": []
    },
    {
      "cell_type": "markdown",
      "source": [
        "Now if we want to find what the average(or mean) of x is, we use the mean function in R."
      ],
      "metadata": {
        "id": "eYifnnriSjfy"
      },
      "id": "eYifnnriSjfy"
    },
    {
      "cell_type": "code",
      "source": [
        "mean(x)"
      ],
      "metadata": {
        "colab": {
          "base_uri": "https://localhost:8080/",
          "height": 34
        },
        "id": "mn4aI90hSuWn",
        "outputId": "3e04c97e-76c4-4bd2-bc81-ecf771631c0b"
      },
      "id": "mn4aI90hSuWn",
      "execution_count": null,
      "outputs": [
        {
          "output_type": "display_data",
          "data": {
            "text/html": [
              "5"
            ],
            "text/markdown": "5",
            "text/latex": "5",
            "text/plain": [
              "[1] 5"
            ]
          },
          "metadata": {}
        }
      ]
    },
    {
      "cell_type": "markdown",
      "source": [
        "### $\\color{magenta}{\\text{Your Turn!}}$\n",
        " Use these commands to find what the average of 9, 16, 13, 13, 15,  9, 19,  2."
      ],
      "metadata": {
        "id": "Q_wDhx6uSxQi"
      },
      "id": "Q_wDhx6uSxQi"
    },
    {
      "cell_type": "code",
      "source": [
        "#Enter your lines of code here to find the mean of these values."
      ],
      "metadata": {
        "id": "8dieA8OFTBRK"
      },
      "id": "8dieA8OFTBRK",
      "execution_count": null,
      "outputs": []
    },
    {
      "cell_type": "markdown",
      "source": [
        "# $\\color{cyan}{\\text{Extracting Data}}$\n",
        "\n",
        "Now that we have a basic understanding of functions and variables, let's look at our dataset and start thinking about how we can analyze the information.\n",
        "\n",
        "To start looking at the data, we have to read the dataset in. The dataset is held in what we call a csv file. The line of code below reads in the file and saves it as a dataframe called \"TikTok\"."
      ],
      "metadata": {
        "id": "pTayLHvsTKrs"
      },
      "id": "pTayLHvsTKrs"
    },
    {
      "cell_type": "code",
      "source": [
        "TikTok = read.csv(\"https://raw.githubusercontent.com/DanikaLipman/DataScienceCamp/refs/heads/main/TikTok_songs_2022.csv\")"
      ],
      "metadata": {
        "id": "vwS9LOztUF-D"
      },
      "id": "vwS9LOztUF-D",
      "execution_count": null,
      "outputs": []
    },
    {
      "cell_type": "markdown",
      "source": [
        "Let's take a peak at what the data looks like. There are 283 songs in the dataset. I don't want to look at all of the data, so I will use the function head() to look at the first few rows."
      ],
      "metadata": {
        "id": "0fzNbxvQTb-E"
      },
      "id": "0fzNbxvQTb-E"
    },
    {
      "cell_type": "code",
      "source": [
        "head(TikTok)"
      ],
      "metadata": {
        "colab": {
          "base_uri": "https://localhost:8080/",
          "height": 445
        },
        "id": "RvLqwYw6Upgy",
        "outputId": "6cc74740-a543-48a0-90e4-c3317c9a342d"
      },
      "id": "RvLqwYw6Upgy",
      "execution_count": null,
      "outputs": [
        {
          "output_type": "display_data",
          "data": {
            "text/html": [
              "<table class=\"dataframe\">\n",
              "<caption>A data.frame: 6 × 18</caption>\n",
              "<thead>\n",
              "\t<tr><th></th><th scope=col>track_name</th><th scope=col>artist_name</th><th scope=col>artist_pop</th><th scope=col>album</th><th scope=col>track_pop</th><th scope=col>danceability</th><th scope=col>energy</th><th scope=col>loudness</th><th scope=col>mode</th><th scope=col>key</th><th scope=col>speechiness</th><th scope=col>acousticness</th><th scope=col>instrumentalness</th><th scope=col>liveness</th><th scope=col>valence</th><th scope=col>tempo</th><th scope=col>time_signature</th><th scope=col>duration_ms</th></tr>\n",
              "\t<tr><th></th><th scope=col>&lt;chr&gt;</th><th scope=col>&lt;chr&gt;</th><th scope=col>&lt;int&gt;</th><th scope=col>&lt;chr&gt;</th><th scope=col>&lt;int&gt;</th><th scope=col>&lt;dbl&gt;</th><th scope=col>&lt;dbl&gt;</th><th scope=col>&lt;dbl&gt;</th><th scope=col>&lt;int&gt;</th><th scope=col>&lt;int&gt;</th><th scope=col>&lt;dbl&gt;</th><th scope=col>&lt;dbl&gt;</th><th scope=col>&lt;dbl&gt;</th><th scope=col>&lt;dbl&gt;</th><th scope=col>&lt;dbl&gt;</th><th scope=col>&lt;dbl&gt;</th><th scope=col>&lt;int&gt;</th><th scope=col>&lt;int&gt;</th></tr>\n",
              "</thead>\n",
              "<tbody>\n",
              "\t<tr><th scope=row>1</th><td>Running Up That Hill (A Deal With God)</td><td>Kate Bush    </td><td>81</td><td>Hounds Of Love            </td><td>95</td><td>0.629</td><td>0.547</td><td>-13.123</td><td>0</td><td>10</td><td>0.0550</td><td>0.7200</td><td>3.14e-03</td><td>0.0604</td><td>0.197</td><td>108.375</td><td>4</td><td>298933</td></tr>\n",
              "\t<tr><th scope=row>2</th><td>As It Was                             </td><td>Harry Styles </td><td>91</td><td>As It Was                 </td><td>96</td><td>0.520</td><td>0.731</td><td> -5.338</td><td>0</td><td> 6</td><td>0.0557</td><td>0.3420</td><td>1.01e-03</td><td>0.3110</td><td>0.662</td><td>173.930</td><td>4</td><td>167303</td></tr>\n",
              "\t<tr><th scope=row>3</th><td>Sunroof                               </td><td>Nicky Youre  </td><td>73</td><td>Sunroof                   </td><td>44</td><td>0.768</td><td>0.716</td><td> -5.110</td><td>1</td><td>10</td><td>0.0404</td><td>0.3500</td><td>0.00e+00</td><td>0.1500</td><td>0.841</td><td>131.430</td><td>4</td><td>163026</td></tr>\n",
              "\t<tr><th scope=row>4</th><td>Heat Waves                            </td><td>Glass Animals</td><td>80</td><td>Dreamland (+ Bonus Levels)</td><td>89</td><td>0.761</td><td>0.525</td><td> -6.900</td><td>1</td><td>11</td><td>0.0944</td><td>0.4400</td><td>6.70e-06</td><td>0.0921</td><td>0.531</td><td> 80.870</td><td>4</td><td>238805</td></tr>\n",
              "\t<tr><th scope=row>5</th><td>About Damn Time                       </td><td>Lizzo        </td><td>81</td><td>About Damn Time           </td><td>92</td><td>0.836</td><td>0.743</td><td> -6.305</td><td>0</td><td>10</td><td>0.0656</td><td>0.0995</td><td>0.00e+00</td><td>0.3350</td><td>0.722</td><td>108.966</td><td>4</td><td>191822</td></tr>\n",
              "\t<tr><th scope=row>6</th><td>Glimpse of Us                         </td><td>Joji         </td><td>85</td><td>Glimpse of Us             </td><td>97</td><td>0.440</td><td>0.317</td><td> -9.258</td><td>1</td><td> 8</td><td>0.0531</td><td>0.8910</td><td>4.78e-06</td><td>0.1410</td><td>0.268</td><td>169.914</td><td>3</td><td>233456</td></tr>\n",
              "</tbody>\n",
              "</table>\n"
            ],
            "text/markdown": "\nA data.frame: 6 × 18\n\n| <!--/--> | track_name &lt;chr&gt; | artist_name &lt;chr&gt; | artist_pop &lt;int&gt; | album &lt;chr&gt; | track_pop &lt;int&gt; | danceability &lt;dbl&gt; | energy &lt;dbl&gt; | loudness &lt;dbl&gt; | mode &lt;int&gt; | key &lt;int&gt; | speechiness &lt;dbl&gt; | acousticness &lt;dbl&gt; | instrumentalness &lt;dbl&gt; | liveness &lt;dbl&gt; | valence &lt;dbl&gt; | tempo &lt;dbl&gt; | time_signature &lt;int&gt; | duration_ms &lt;int&gt; |\n|---|---|---|---|---|---|---|---|---|---|---|---|---|---|---|---|---|---|---|\n| 1 | Running Up That Hill (A Deal With God) | Kate Bush     | 81 | Hounds Of Love             | 95 | 0.629 | 0.547 | -13.123 | 0 | 10 | 0.0550 | 0.7200 | 3.14e-03 | 0.0604 | 0.197 | 108.375 | 4 | 298933 |\n| 2 | As It Was                              | Harry Styles  | 91 | As It Was                  | 96 | 0.520 | 0.731 |  -5.338 | 0 |  6 | 0.0557 | 0.3420 | 1.01e-03 | 0.3110 | 0.662 | 173.930 | 4 | 167303 |\n| 3 | Sunroof                                | Nicky Youre   | 73 | Sunroof                    | 44 | 0.768 | 0.716 |  -5.110 | 1 | 10 | 0.0404 | 0.3500 | 0.00e+00 | 0.1500 | 0.841 | 131.430 | 4 | 163026 |\n| 4 | Heat Waves                             | Glass Animals | 80 | Dreamland (+ Bonus Levels) | 89 | 0.761 | 0.525 |  -6.900 | 1 | 11 | 0.0944 | 0.4400 | 6.70e-06 | 0.0921 | 0.531 |  80.870 | 4 | 238805 |\n| 5 | About Damn Time                        | Lizzo         | 81 | About Damn Time            | 92 | 0.836 | 0.743 |  -6.305 | 0 | 10 | 0.0656 | 0.0995 | 0.00e+00 | 0.3350 | 0.722 | 108.966 | 4 | 191822 |\n| 6 | Glimpse of Us                          | Joji          | 85 | Glimpse of Us              | 97 | 0.440 | 0.317 |  -9.258 | 1 |  8 | 0.0531 | 0.8910 | 4.78e-06 | 0.1410 | 0.268 | 169.914 | 3 | 233456 |\n\n",
            "text/latex": "A data.frame: 6 × 18\n\\begin{tabular}{r|llllllllllllllllll}\n  & track\\_name & artist\\_name & artist\\_pop & album & track\\_pop & danceability & energy & loudness & mode & key & speechiness & acousticness & instrumentalness & liveness & valence & tempo & time\\_signature & duration\\_ms\\\\\n  & <chr> & <chr> & <int> & <chr> & <int> & <dbl> & <dbl> & <dbl> & <int> & <int> & <dbl> & <dbl> & <dbl> & <dbl> & <dbl> & <dbl> & <int> & <int>\\\\\n\\hline\n\t1 & Running Up That Hill (A Deal With God) & Kate Bush     & 81 & Hounds Of Love             & 95 & 0.629 & 0.547 & -13.123 & 0 & 10 & 0.0550 & 0.7200 & 3.14e-03 & 0.0604 & 0.197 & 108.375 & 4 & 298933\\\\\n\t2 & As It Was                              & Harry Styles  & 91 & As It Was                  & 96 & 0.520 & 0.731 &  -5.338 & 0 &  6 & 0.0557 & 0.3420 & 1.01e-03 & 0.3110 & 0.662 & 173.930 & 4 & 167303\\\\\n\t3 & Sunroof                                & Nicky Youre   & 73 & Sunroof                    & 44 & 0.768 & 0.716 &  -5.110 & 1 & 10 & 0.0404 & 0.3500 & 0.00e+00 & 0.1500 & 0.841 & 131.430 & 4 & 163026\\\\\n\t4 & Heat Waves                             & Glass Animals & 80 & Dreamland (+ Bonus Levels) & 89 & 0.761 & 0.525 &  -6.900 & 1 & 11 & 0.0944 & 0.4400 & 6.70e-06 & 0.0921 & 0.531 &  80.870 & 4 & 238805\\\\\n\t5 & About Damn Time                        & Lizzo         & 81 & About Damn Time            & 92 & 0.836 & 0.743 &  -6.305 & 0 & 10 & 0.0656 & 0.0995 & 0.00e+00 & 0.3350 & 0.722 & 108.966 & 4 & 191822\\\\\n\t6 & Glimpse of Us                          & Joji          & 85 & Glimpse of Us              & 97 & 0.440 & 0.317 &  -9.258 & 1 &  8 & 0.0531 & 0.8910 & 4.78e-06 & 0.1410 & 0.268 & 169.914 & 3 & 233456\\\\\n\\end{tabular}\n",
            "text/plain": [
              "  track_name                             artist_name   artist_pop\n",
              "1 Running Up That Hill (A Deal With God) Kate Bush     81        \n",
              "2 As It Was                              Harry Styles  91        \n",
              "3 Sunroof                                Nicky Youre   73        \n",
              "4 Heat Waves                             Glass Animals 80        \n",
              "5 About Damn Time                        Lizzo         81        \n",
              "6 Glimpse of Us                          Joji          85        \n",
              "  album                      track_pop danceability energy loudness mode key\n",
              "1 Hounds Of Love             95        0.629        0.547  -13.123  0    10 \n",
              "2 As It Was                  96        0.520        0.731   -5.338  0     6 \n",
              "3 Sunroof                    44        0.768        0.716   -5.110  1    10 \n",
              "4 Dreamland (+ Bonus Levels) 89        0.761        0.525   -6.900  1    11 \n",
              "5 About Damn Time            92        0.836        0.743   -6.305  0    10 \n",
              "6 Glimpse of Us              97        0.440        0.317   -9.258  1     8 \n",
              "  speechiness acousticness instrumentalness liveness valence tempo  \n",
              "1 0.0550      0.7200       3.14e-03         0.0604   0.197   108.375\n",
              "2 0.0557      0.3420       1.01e-03         0.3110   0.662   173.930\n",
              "3 0.0404      0.3500       0.00e+00         0.1500   0.841   131.430\n",
              "4 0.0944      0.4400       6.70e-06         0.0921   0.531    80.870\n",
              "5 0.0656      0.0995       0.00e+00         0.3350   0.722   108.966\n",
              "6 0.0531      0.8910       4.78e-06         0.1410   0.268   169.914\n",
              "  time_signature duration_ms\n",
              "1 4              298933     \n",
              "2 4              167303     \n",
              "3 4              163026     \n",
              "4 4              238805     \n",
              "5 4              191822     \n",
              "6 3              233456     "
            ]
          },
          "metadata": {}
        }
      ]
    },
    {
      "cell_type": "markdown",
      "source": [
        "Some things to notice:\n",
        "  - **chr** tells us that this column is made of words/characters.\n",
        "  - **int** tells us that this column is made of integers.\n",
        "  - **dbl** tells us that this column is made of numbers that can be decimals.\n",
        "\n",
        "Looking at what was printed I can see some informatiob about the song \"Heat Waves\". For example this song has a popularity of 89, while the artist, Glass, has a popularity of 80.\n",
        "\n",
        "**What if I would like to see what is the in the 100th row?**\n",
        "\n",
        "- The data frame consists of rows and columns. If I want to access a particular row, in my code I will write the name of the dataframe then square brackets.\n",
        "  TikTok[row number, column number]\n",
        "- So if I want the 100th row:\n",
        "\n"
      ],
      "metadata": {
        "id": "rrFCSjSSUtCk"
      },
      "id": "rrFCSjSSUtCk"
    },
    {
      "cell_type": "code",
      "source": [
        "TikTok[100,]"
      ],
      "metadata": {
        "colab": {
          "base_uri": "https://localhost:8080/",
          "height": 73
        },
        "id": "LEiHq6TMWUyd",
        "outputId": "bdb50d15-70eb-41a8-cfff-226fa0c0bfff"
      },
      "id": "LEiHq6TMWUyd",
      "execution_count": 1,
      "outputs": [
        {
          "output_type": "error",
          "ename": "ERROR",
          "evalue": "Error: object 'TikTok' not found\n",
          "traceback": [
            "Error: object 'TikTok' not found\nTraceback:\n"
          ]
        }
      ]
    },
    {
      "cell_type": "markdown",
      "source": [
        "We see here that the 100th row is Astronaut In the Ocean by Masked Wolf.\n",
        "\n",
        "### $\\color{magenta}{\\text{Your Turn!}}$\n",
        "\n",
        "What is the name of the song in the 200th row? What is the popularity score of this song?"
      ],
      "metadata": {
        "id": "sQfB1FkAWdFG"
      },
      "id": "sQfB1FkAWdFG"
    },
    {
      "cell_type": "code",
      "source": [
        "#your code here"
      ],
      "metadata": {
        "id": "rjd0vmfWW-uL"
      },
      "id": "rjd0vmfWW-uL",
      "execution_count": null,
      "outputs": []
    },
    {
      "cell_type": "markdown",
      "source": [
        "Double click here to type in your answers!\n",
        "\n",
        "The name of the song is \"answer\" and the popularity score of the song is \"answer\""
      ],
      "metadata": {
        "id": "7GeQcpZTXA1s"
      },
      "id": "7GeQcpZTXA1s"
    },
    {
      "cell_type": "markdown",
      "source": [
        "# $\\color{olive}{\\text{Looking at a Particular Column/Variable}}$\n",
        "\n",
        "- Perhaps we are interested in the what song(s) have the highest popularity score.\n",
        "- To look at a particular column, we use the dollar sign, and then the name of the column\n",
        "- For example, to look at the track_pop column, we will run the following line of code:"
      ],
      "metadata": {
        "id": "VZBPJcn6XVC1"
      },
      "id": "VZBPJcn6XVC1"
    },
    {
      "cell_type": "code",
      "source": [
        "TikTok$track_pop #this will print out 283 popularity scores."
      ],
      "metadata": {
        "colab": {
          "base_uri": "https://localhost:8080/",
          "height": 173
        },
        "id": "oBRirWo-Xw49",
        "outputId": "9ad4a408-7091-4182-f3ca-075ec6cc56d9"
      },
      "id": "oBRirWo-Xw49",
      "execution_count": null,
      "outputs": [
        {
          "output_type": "display_data",
          "data": {
            "text/html": [
              "<style>\n",
              ".list-inline {list-style: none; margin:0; padding: 0}\n",
              ".list-inline>li {display: inline-block}\n",
              ".list-inline>li:not(:last-child)::after {content: \"\\00b7\"; padding: 0 .5ex}\n",
              "</style>\n",
              "<ol class=list-inline><li>95</li><li>96</li><li>44</li><li>89</li><li>92</li><li>97</li><li>86</li><li>89</li><li>87</li><li>89</li><li>86</li><li>87</li><li>87</li><li>55</li><li>91</li><li>86</li><li>0</li><li>89</li><li>76</li><li>57</li><li>86</li><li>58</li><li>84</li><li>86</li><li>90</li><li>58</li><li>83</li><li>79</li><li>42</li><li>58</li><li>58</li><li>83</li><li>0</li><li>54</li><li>89</li><li>76</li><li>51</li><li>72</li><li>81</li><li>53</li><li>47</li><li>52</li><li>0</li><li>79</li><li>52</li><li>82</li><li>32</li><li>84</li><li>22</li><li>51</li><li>42</li><li>45</li><li>93</li><li>49</li><li>46</li><li>46</li><li>87</li><li>65</li><li>50</li><li>4</li><li>47</li><li>76</li><li>80</li><li>52</li><li>88</li><li>39</li><li>73</li><li>81</li><li>0</li><li>51</li><li>53</li><li>80</li><li>73</li><li>42</li><li>74</li><li>0</li><li>77</li><li>79</li><li>0</li><li>64</li><li>68</li><li>54</li><li>89</li><li>31</li><li>76</li><li>56</li><li>67</li><li>58</li><li>51</li><li>82</li><li>86</li><li>48</li><li>48</li><li>88</li><li>52</li><li>73</li><li>49</li><li>76</li><li>50</li><li>79</li><li>65</li><li>54</li><li>0</li><li>31</li><li>48</li><li>36</li><li>38</li><li>83</li><li>87</li><li>85</li><li>49</li><li>79</li><li>85</li><li>54</li><li>90</li><li>72</li><li>43</li><li>46</li><li>75</li><li>82</li><li>49</li><li>37</li><li>55</li><li>81</li><li>77</li><li>66</li><li>82</li><li>1</li><li>86</li><li>3</li><li>0</li><li>0</li><li>72</li><li>2</li><li>85</li><li>54</li><li>67</li><li>90</li><li>46</li><li>60</li><li>15</li><li>55</li><li>84</li><li>74</li><li>82</li><li>44</li><li>76</li><li>83</li><li>77</li><li>18</li><li>39</li><li>29</li><li>76</li><li>39</li><li>70</li><li>67</li><li>48</li><li>45</li><li>77</li><li>51</li><li>83</li><li>82</li><li>72</li><li>57</li><li>43</li><li>53</li><li>81</li><li>81</li><li>50</li><li>80</li><li>77</li><li>65</li><li>73</li><li>80</li><li>53</li><li>80</li><li>80</li><li>78</li><li>1</li><li>78</li><li>75</li><li>39</li><li>48</li><li>80</li><li>0</li><li>72</li><li>60</li><li>49</li><li>78</li><li>72</li><li>38</li><li>86</li><li>65</li><li>37</li><li>67</li><li>47</li><li>71</li><li>46</li><li>65</li><li>63</li><li>0</li><li>76</li><li>49</li><li>47</li><li>31</li><li>47</li><li>64</li><li>78</li><li>52</li><li>67</li><li>54</li><li>46</li><li>70</li><li>75</li><li>78</li><li>40</li><li>60</li><li>81</li><li>43</li><li>72</li><li>69</li><li>79</li><li>77</li><li>77</li><li>38</li><li>41</li><li>49</li><li>77</li><li>4</li><li>44</li><li>77</li><li>47</li><li>80</li><li>79</li><li>15</li><li>38</li><li>82</li><li>62</li><li>69</li><li>76</li><li>77</li><li>18</li><li>37</li><li>0</li><li>78</li><li>0</li><li>3</li><li>45</li><li>78</li><li>5</li><li>56</li><li>74</li><li>77</li><li>70</li><li>53</li><li>69</li><li>1</li><li>45</li><li>84</li><li>90</li><li>92</li><li>80</li><li>71</li></ol>\n"
            ],
            "text/markdown": "1. 95\n2. 96\n3. 44\n4. 89\n5. 92\n6. 97\n7. 86\n8. 89\n9. 87\n10. 89\n11. 86\n12. 87\n13. 87\n14. 55\n15. 91\n16. 86\n17. 0\n18. 89\n19. 76\n20. 57\n21. 86\n22. 58\n23. 84\n24. 86\n25. 90\n26. 58\n27. 83\n28. 79\n29. 42\n30. 58\n31. 58\n32. 83\n33. 0\n34. 54\n35. 89\n36. 76\n37. 51\n38. 72\n39. 81\n40. 53\n41. 47\n42. 52\n43. 0\n44. 79\n45. 52\n46. 82\n47. 32\n48. 84\n49. 22\n50. 51\n51. 42\n52. 45\n53. 93\n54. 49\n55. 46\n56. 46\n57. 87\n58. 65\n59. 50\n60. 4\n61. 47\n62. 76\n63. 80\n64. 52\n65. 88\n66. 39\n67. 73\n68. 81\n69. 0\n70. 51\n71. 53\n72. 80\n73. 73\n74. 42\n75. 74\n76. 0\n77. 77\n78. 79\n79. 0\n80. 64\n81. 68\n82. 54\n83. 89\n84. 31\n85. 76\n86. 56\n87. 67\n88. 58\n89. 51\n90. 82\n91. 86\n92. 48\n93. 48\n94. 88\n95. 52\n96. 73\n97. 49\n98. 76\n99. 50\n100. 79\n101. 65\n102. 54\n103. 0\n104. 31\n105. 48\n106. 36\n107. 38\n108. 83\n109. 87\n110. 85\n111. 49\n112. 79\n113. 85\n114. 54\n115. 90\n116. 72\n117. 43\n118. 46\n119. 75\n120. 82\n121. 49\n122. 37\n123. 55\n124. 81\n125. 77\n126. 66\n127. 82\n128. 1\n129. 86\n130. 3\n131. 0\n132. 0\n133. 72\n134. 2\n135. 85\n136. 54\n137. 67\n138. 90\n139. 46\n140. 60\n141. 15\n142. 55\n143. 84\n144. 74\n145. 82\n146. 44\n147. 76\n148. 83\n149. 77\n150. 18\n151. 39\n152. 29\n153. 76\n154. 39\n155. 70\n156. 67\n157. 48\n158. 45\n159. 77\n160. 51\n161. 83\n162. 82\n163. 72\n164. 57\n165. 43\n166. 53\n167. 81\n168. 81\n169. 50\n170. 80\n171. 77\n172. 65\n173. 73\n174. 80\n175. 53\n176. 80\n177. 80\n178. 78\n179. 1\n180. 78\n181. 75\n182. 39\n183. 48\n184. 80\n185. 0\n186. 72\n187. 60\n188. 49\n189. 78\n190. 72\n191. 38\n192. 86\n193. 65\n194. 37\n195. 67\n196. 47\n197. 71\n198. 46\n199. 65\n200. 63\n201. 0\n202. 76\n203. 49\n204. 47\n205. 31\n206. 47\n207. 64\n208. 78\n209. 52\n210. 67\n211. 54\n212. 46\n213. 70\n214. 75\n215. 78\n216. 40\n217. 60\n218. 81\n219. 43\n220. 72\n221. 69\n222. 79\n223. 77\n224. 77\n225. 38\n226. 41\n227. 49\n228. 77\n229. 4\n230. 44\n231. 77\n232. 47\n233. 80\n234. 79\n235. 15\n236. 38\n237. 82\n238. 62\n239. 69\n240. 76\n241. 77\n242. 18\n243. 37\n244. 0\n245. 78\n246. 0\n247. 3\n248. 45\n249. 78\n250. 5\n251. 56\n252. 74\n253. 77\n254. 70\n255. 53\n256. 69\n257. 1\n258. 45\n259. 84\n260. 90\n261. 92\n262. 80\n263. 71\n\n\n",
            "text/latex": "\\begin{enumerate*}\n\\item 95\n\\item 96\n\\item 44\n\\item 89\n\\item 92\n\\item 97\n\\item 86\n\\item 89\n\\item 87\n\\item 89\n\\item 86\n\\item 87\n\\item 87\n\\item 55\n\\item 91\n\\item 86\n\\item 0\n\\item 89\n\\item 76\n\\item 57\n\\item 86\n\\item 58\n\\item 84\n\\item 86\n\\item 90\n\\item 58\n\\item 83\n\\item 79\n\\item 42\n\\item 58\n\\item 58\n\\item 83\n\\item 0\n\\item 54\n\\item 89\n\\item 76\n\\item 51\n\\item 72\n\\item 81\n\\item 53\n\\item 47\n\\item 52\n\\item 0\n\\item 79\n\\item 52\n\\item 82\n\\item 32\n\\item 84\n\\item 22\n\\item 51\n\\item 42\n\\item 45\n\\item 93\n\\item 49\n\\item 46\n\\item 46\n\\item 87\n\\item 65\n\\item 50\n\\item 4\n\\item 47\n\\item 76\n\\item 80\n\\item 52\n\\item 88\n\\item 39\n\\item 73\n\\item 81\n\\item 0\n\\item 51\n\\item 53\n\\item 80\n\\item 73\n\\item 42\n\\item 74\n\\item 0\n\\item 77\n\\item 79\n\\item 0\n\\item 64\n\\item 68\n\\item 54\n\\item 89\n\\item 31\n\\item 76\n\\item 56\n\\item 67\n\\item 58\n\\item 51\n\\item 82\n\\item 86\n\\item 48\n\\item 48\n\\item 88\n\\item 52\n\\item 73\n\\item 49\n\\item 76\n\\item 50\n\\item 79\n\\item 65\n\\item 54\n\\item 0\n\\item 31\n\\item 48\n\\item 36\n\\item 38\n\\item 83\n\\item 87\n\\item 85\n\\item 49\n\\item 79\n\\item 85\n\\item 54\n\\item 90\n\\item 72\n\\item 43\n\\item 46\n\\item 75\n\\item 82\n\\item 49\n\\item 37\n\\item 55\n\\item 81\n\\item 77\n\\item 66\n\\item 82\n\\item 1\n\\item 86\n\\item 3\n\\item 0\n\\item 0\n\\item 72\n\\item 2\n\\item 85\n\\item 54\n\\item 67\n\\item 90\n\\item 46\n\\item 60\n\\item 15\n\\item 55\n\\item 84\n\\item 74\n\\item 82\n\\item 44\n\\item 76\n\\item 83\n\\item 77\n\\item 18\n\\item 39\n\\item 29\n\\item 76\n\\item 39\n\\item 70\n\\item 67\n\\item 48\n\\item 45\n\\item 77\n\\item 51\n\\item 83\n\\item 82\n\\item 72\n\\item 57\n\\item 43\n\\item 53\n\\item 81\n\\item 81\n\\item 50\n\\item 80\n\\item 77\n\\item 65\n\\item 73\n\\item 80\n\\item 53\n\\item 80\n\\item 80\n\\item 78\n\\item 1\n\\item 78\n\\item 75\n\\item 39\n\\item 48\n\\item 80\n\\item 0\n\\item 72\n\\item 60\n\\item 49\n\\item 78\n\\item 72\n\\item 38\n\\item 86\n\\item 65\n\\item 37\n\\item 67\n\\item 47\n\\item 71\n\\item 46\n\\item 65\n\\item 63\n\\item 0\n\\item 76\n\\item 49\n\\item 47\n\\item 31\n\\item 47\n\\item 64\n\\item 78\n\\item 52\n\\item 67\n\\item 54\n\\item 46\n\\item 70\n\\item 75\n\\item 78\n\\item 40\n\\item 60\n\\item 81\n\\item 43\n\\item 72\n\\item 69\n\\item 79\n\\item 77\n\\item 77\n\\item 38\n\\item 41\n\\item 49\n\\item 77\n\\item 4\n\\item 44\n\\item 77\n\\item 47\n\\item 80\n\\item 79\n\\item 15\n\\item 38\n\\item 82\n\\item 62\n\\item 69\n\\item 76\n\\item 77\n\\item 18\n\\item 37\n\\item 0\n\\item 78\n\\item 0\n\\item 3\n\\item 45\n\\item 78\n\\item 5\n\\item 56\n\\item 74\n\\item 77\n\\item 70\n\\item 53\n\\item 69\n\\item 1\n\\item 45\n\\item 84\n\\item 90\n\\item 92\n\\item 80\n\\item 71\n\\end{enumerate*}\n",
            "text/plain": [
              "  [1] 95 96 44 89 92 97 86 89 87 89 86 87 87 55 91 86  0 89 76 57 86 58 84 86 90\n",
              " [26] 58 83 79 42 58 58 83  0 54 89 76 51 72 81 53 47 52  0 79 52 82 32 84 22 51\n",
              " [51] 42 45 93 49 46 46 87 65 50  4 47 76 80 52 88 39 73 81  0 51 53 80 73 42 74\n",
              " [76]  0 77 79  0 64 68 54 89 31 76 56 67 58 51 82 86 48 48 88 52 73 49 76 50 79\n",
              "[101] 65 54  0 31 48 36 38 83 87 85 49 79 85 54 90 72 43 46 75 82 49 37 55 81 77\n",
              "[126] 66 82  1 86  3  0  0 72  2 85 54 67 90 46 60 15 55 84 74 82 44 76 83 77 18\n",
              "[151] 39 29 76 39 70 67 48 45 77 51 83 82 72 57 43 53 81 81 50 80 77 65 73 80 53\n",
              "[176] 80 80 78  1 78 75 39 48 80  0 72 60 49 78 72 38 86 65 37 67 47 71 46 65 63\n",
              "[201]  0 76 49 47 31 47 64 78 52 67 54 46 70 75 78 40 60 81 43 72 69 79 77 77 38\n",
              "[226] 41 49 77  4 44 77 47 80 79 15 38 82 62 69 76 77 18 37  0 78  0  3 45 78  5\n",
              "[251] 56 74 77 70 53 69  1 45 84 90 92 80 71"
            ]
          },
          "metadata": {}
        }
      ]
    },
    {
      "cell_type": "markdown",
      "source": [
        "- I would like to know which song or songs have the highest score. I can do this by using the max() function in R!"
      ],
      "metadata": {
        "id": "NPgW8lajX5co"
      },
      "id": "NPgW8lajX5co"
    },
    {
      "cell_type": "code",
      "source": [
        "max(TikTok$track_pop)"
      ],
      "metadata": {
        "colab": {
          "base_uri": "https://localhost:8080/",
          "height": 34
        },
        "id": "U96x2SicYB9f",
        "outputId": "6491984c-1b40-4bff-f04b-8726f1d09bf7"
      },
      "id": "U96x2SicYB9f",
      "execution_count": null,
      "outputs": [
        {
          "output_type": "display_data",
          "data": {
            "text/html": [
              "97"
            ],
            "text/markdown": "97",
            "text/latex": "97",
            "text/plain": [
              "[1] 97"
            ]
          },
          "metadata": {}
        }
      ]
    },
    {
      "cell_type": "markdown",
      "source": [
        "- the maximum score is 97, but I would like to know which row that is in. I can find this using the function which.max(). Then I can extract this row from the data."
      ],
      "metadata": {
        "id": "ycuJzPD9YFrJ"
      },
      "id": "ycuJzPD9YFrJ"
    },
    {
      "cell_type": "code",
      "source": [
        "which.max(TikTok$track_pop)"
      ],
      "metadata": {
        "colab": {
          "base_uri": "https://localhost:8080/",
          "height": 34
        },
        "id": "qK44Sw0gYPUs",
        "outputId": "4347e789-910e-4911-ecee-b575c75ebc87"
      },
      "id": "qK44Sw0gYPUs",
      "execution_count": null,
      "outputs": [
        {
          "output_type": "display_data",
          "data": {
            "text/html": [
              "6"
            ],
            "text/markdown": "6",
            "text/latex": "6",
            "text/plain": [
              "[1] 6"
            ]
          },
          "metadata": {}
        }
      ]
    },
    {
      "cell_type": "markdown",
      "source": [
        "- Row 6 has the most popular song. I am now going to print this row out using the following R code:\n",
        "  - Notice that I put the which.max() function as the row number in the square brackets!"
      ],
      "metadata": {
        "id": "DOE3w-nBYfLV"
      },
      "id": "DOE3w-nBYfLV"
    },
    {
      "cell_type": "code",
      "source": [
        "TikTok[which.max(TikTok$track_pop),]"
      ],
      "metadata": {
        "colab": {
          "base_uri": "https://localhost:8080/",
          "height": 167
        },
        "id": "GDqik1YvYlyN",
        "outputId": "5cf96ab7-8e11-4a7f-aef3-35b22469e4e8"
      },
      "id": "GDqik1YvYlyN",
      "execution_count": null,
      "outputs": [
        {
          "output_type": "display_data",
          "data": {
            "text/html": [
              "<table class=\"dataframe\">\n",
              "<caption>A data.frame: 1 × 18</caption>\n",
              "<thead>\n",
              "\t<tr><th></th><th scope=col>track_name</th><th scope=col>artist_name</th><th scope=col>artist_pop</th><th scope=col>album</th><th scope=col>track_pop</th><th scope=col>danceability</th><th scope=col>energy</th><th scope=col>loudness</th><th scope=col>mode</th><th scope=col>key</th><th scope=col>speechiness</th><th scope=col>acousticness</th><th scope=col>instrumentalness</th><th scope=col>liveness</th><th scope=col>valence</th><th scope=col>tempo</th><th scope=col>time_signature</th><th scope=col>duration_ms</th></tr>\n",
              "\t<tr><th></th><th scope=col>&lt;chr&gt;</th><th scope=col>&lt;chr&gt;</th><th scope=col>&lt;int&gt;</th><th scope=col>&lt;chr&gt;</th><th scope=col>&lt;int&gt;</th><th scope=col>&lt;dbl&gt;</th><th scope=col>&lt;dbl&gt;</th><th scope=col>&lt;dbl&gt;</th><th scope=col>&lt;int&gt;</th><th scope=col>&lt;int&gt;</th><th scope=col>&lt;dbl&gt;</th><th scope=col>&lt;dbl&gt;</th><th scope=col>&lt;dbl&gt;</th><th scope=col>&lt;dbl&gt;</th><th scope=col>&lt;dbl&gt;</th><th scope=col>&lt;dbl&gt;</th><th scope=col>&lt;int&gt;</th><th scope=col>&lt;int&gt;</th></tr>\n",
              "</thead>\n",
              "<tbody>\n",
              "\t<tr><th scope=row>6</th><td>Glimpse of Us</td><td>Joji</td><td>85</td><td>Glimpse of Us</td><td>97</td><td>0.44</td><td>0.317</td><td>-9.258</td><td>1</td><td>8</td><td>0.0531</td><td>0.891</td><td>4.78e-06</td><td>0.141</td><td>0.268</td><td>169.914</td><td>3</td><td>233456</td></tr>\n",
              "</tbody>\n",
              "</table>\n"
            ],
            "text/markdown": "\nA data.frame: 1 × 18\n\n| <!--/--> | track_name &lt;chr&gt; | artist_name &lt;chr&gt; | artist_pop &lt;int&gt; | album &lt;chr&gt; | track_pop &lt;int&gt; | danceability &lt;dbl&gt; | energy &lt;dbl&gt; | loudness &lt;dbl&gt; | mode &lt;int&gt; | key &lt;int&gt; | speechiness &lt;dbl&gt; | acousticness &lt;dbl&gt; | instrumentalness &lt;dbl&gt; | liveness &lt;dbl&gt; | valence &lt;dbl&gt; | tempo &lt;dbl&gt; | time_signature &lt;int&gt; | duration_ms &lt;int&gt; |\n|---|---|---|---|---|---|---|---|---|---|---|---|---|---|---|---|---|---|---|\n| 6 | Glimpse of Us | Joji | 85 | Glimpse of Us | 97 | 0.44 | 0.317 | -9.258 | 1 | 8 | 0.0531 | 0.891 | 4.78e-06 | 0.141 | 0.268 | 169.914 | 3 | 233456 |\n\n",
            "text/latex": "A data.frame: 1 × 18\n\\begin{tabular}{r|llllllllllllllllll}\n  & track\\_name & artist\\_name & artist\\_pop & album & track\\_pop & danceability & energy & loudness & mode & key & speechiness & acousticness & instrumentalness & liveness & valence & tempo & time\\_signature & duration\\_ms\\\\\n  & <chr> & <chr> & <int> & <chr> & <int> & <dbl> & <dbl> & <dbl> & <int> & <int> & <dbl> & <dbl> & <dbl> & <dbl> & <dbl> & <dbl> & <int> & <int>\\\\\n\\hline\n\t6 & Glimpse of Us & Joji & 85 & Glimpse of Us & 97 & 0.44 & 0.317 & -9.258 & 1 & 8 & 0.0531 & 0.891 & 4.78e-06 & 0.141 & 0.268 & 169.914 & 3 & 233456\\\\\n\\end{tabular}\n",
            "text/plain": [
              "  track_name    artist_name artist_pop album         track_pop danceability\n",
              "6 Glimpse of Us Joji        85         Glimpse of Us 97        0.44        \n",
              "  energy loudness mode key speechiness acousticness instrumentalness liveness\n",
              "6 0.317  -9.258   1    8   0.0531      0.891        4.78e-06         0.141   \n",
              "  valence tempo   time_signature duration_ms\n",
              "6 0.268   169.914 3              233456     "
            ]
          },
          "metadata": {}
        }
      ]
    },
    {
      "cell_type": "markdown",
      "source": [
        "### $\\color{magenta}{\\text{Your Turn!}}$\n",
        "\n",
        "Use what we have learned so far to find what artist has the highest popularity score.\n"
      ],
      "metadata": {
        "id": "8hC3VfLXYw5_"
      },
      "id": "8hC3VfLXYw5_"
    },
    {
      "cell_type": "code",
      "source": [
        "#Enter your code here"
      ],
      "metadata": {
        "id": "Oxh-eZiubMEt"
      },
      "id": "Oxh-eZiubMEt",
      "execution_count": null,
      "outputs": []
    },
    {
      "cell_type": "markdown",
      "source": [
        "**Great Job**\n",
        "\n",
        "We can also use our mean() function to find the mean/average of a column. For example, let's find the mean danceability!"
      ],
      "metadata": {
        "id": "Tl-s8Td0wvgV"
      },
      "id": "Tl-s8Td0wvgV"
    },
    {
      "cell_type": "code",
      "source": [
        "mean(TikTok$danceability)"
      ],
      "metadata": {
        "colab": {
          "base_uri": "https://localhost:8080/",
          "height": 34
        },
        "id": "JK2BVOpOw6Vo",
        "outputId": "702297b9-1bc3-4f2f-ea69-3a39c4253ca4"
      },
      "id": "JK2BVOpOw6Vo",
      "execution_count": null,
      "outputs": [
        {
          "output_type": "display_data",
          "data": {
            "text/html": [
              "0.715338403041825"
            ],
            "text/markdown": "0.715338403041825",
            "text/latex": "0.715338403041825",
            "text/plain": [
              "[1] 0.7153384"
            ]
          },
          "metadata": {}
        }
      ]
    },
    {
      "cell_type": "markdown",
      "source": [
        "- Something we are often interested in data analysis is the **standard deviation**.\n",
        "- **Standard deviation** measures how far data tends to be from the average.\n",
        "  - A small standard deviation means the data tends to be close to the mean/average\n",
        "  - A large standard deviation means that the data is very spread out.\n",
        "- We can think about standard deviation on a dart board.\n",
        "  - If you through 10 darts and they are all very close together, the standard deviation of the throws is small.\n",
        "  - If you throw 10 darts are they are spread out far across the board, then the throws have a a high standard deviation!\n",
        "- About 68% of data fall within 1 standard deviation of the mean, and 95% fall within 2 standard deviations of the mean.\n",
        "Let's find the standard deviation of danceability and interpret it.\n"
      ],
      "metadata": {
        "id": "b1wLu4jRxaLP"
      },
      "id": "b1wLu4jRxaLP"
    },
    {
      "cell_type": "code",
      "source": [
        "sd(TikTok$danceability)"
      ],
      "metadata": {
        "colab": {
          "base_uri": "https://localhost:8080/",
          "height": 34
        },
        "id": "k-4J4EW6mqDe",
        "outputId": "0c20355b-2fa9-4310-c031-d3fbe672b1e7"
      },
      "id": "k-4J4EW6mqDe",
      "execution_count": null,
      "outputs": [
        {
          "output_type": "display_data",
          "data": {
            "text/html": [
              "0.117722355503219"
            ],
            "text/markdown": "0.117722355503219",
            "text/latex": "0.117722355503219",
            "text/plain": [
              "[1] 0.1177224"
            ]
          },
          "metadata": {}
        }
      ]
    },
    {
      "cell_type": "markdown",
      "source": [
        "- About 95% of the danceabilities are between $0.715 + 2\\times 0.118$ and $0.715 - 2\\times 0.118$.\n",
        "- So 95% of the danceabilities are between 0.479 and 0.951."
      ],
      "metadata": {
        "id": "6MV5wXOonItV"
      },
      "id": "6MV5wXOonItV"
    },
    {
      "cell_type": "markdown",
      "source": [
        "### $\\color{magenta}{\\text{Your Turn!}}$\n",
        "\n",
        "Use what we have learned so far to find the standard deviation of artist popularity.\n"
      ],
      "metadata": {
        "id": "t4-4WSYkno3D"
      },
      "id": "t4-4WSYkno3D"
    },
    {
      "cell_type": "code",
      "source": [
        "#your code here"
      ],
      "metadata": {
        "id": "Y4hWx63_nyTz"
      },
      "id": "Y4hWx63_nyTz",
      "execution_count": null,
      "outputs": []
    },
    {
      "cell_type": "markdown",
      "source": [
        "Double click here and complete the sentence. 95% of the artist popularity scores are between [number] and [number]"
      ],
      "metadata": {
        "id": "FQGYyofyn0L3"
      },
      "id": "FQGYyofyn0L3"
    },
    {
      "cell_type": "markdown",
      "source": [
        "# $\\color{cyan}{\\text{Histograms}}$\n",
        "\n",
        "A histogram is a kind of bar graph that shows how often different numbers appear in a group of data. It helps us quickly see which numbers happen a lot and which ones don't.\n",
        "The bottom line (called the horizontal axis) shows the kinds of numbers we're looking at, and the side line (called the vertical axis) shows how many times each group of numbers appears.\n",
        "\n",
        "Let's look at a histogram of danceability. To make a histogram we will use a **library** in R called ggplot2.\n",
        "- In R, a library is a collection of functions, data, and code that helps you do specific tasks—kind of like a toolbox\n",
        "- The next chunk of code loads in the library we would like to use."
      ],
      "metadata": {
        "id": "xVpAaYA-oO9_"
      },
      "id": "xVpAaYA-oO9_"
    },
    {
      "cell_type": "code",
      "source": [
        "library(ggplot2)"
      ],
      "metadata": {
        "id": "_CQzu-ivo-Yi"
      },
      "id": "_CQzu-ivo-Yi",
      "execution_count": null,
      "outputs": []
    },
    {
      "cell_type": "markdown",
      "source": [
        "- The function we will use to create a histogram is as follows:\n",
        "\n",
        "ggplot(data, aes(x = columnname)) +\n",
        "  geom_histogram( fill = \"skyblue\", color = \"black\") +\n",
        "  labs(title = \"Main Title Here\", x = \"X-axis Label Here\", y = \"Y-axis Label here\")\n",
        "- We can change the colours of our histogram. The colours available in ggplot can by found by clicking [this link](https://sape.inf.usi.ch/quick-reference/ggplot2/colour)"
      ],
      "metadata": {
        "id": "fHntZ4kSpBhj"
      },
      "id": "fHntZ4kSpBhj"
    },
    {
      "cell_type": "code",
      "source": [
        "ggplot(TikTok, aes(x = danceability)) + geom_histogram( fill = \"skyblue\", color = \"black\") + labs(title = \"Histogram of Danceability\", x = \"Danceability\", y = \"Counts\")"
      ],
      "metadata": {
        "colab": {
          "base_uri": "https://localhost:8080/",
          "height": 455
        },
        "id": "nPSOc6G-p7rd",
        "outputId": "1401884e-0440-4420-cffa-50bdd7e8f042"
      },
      "id": "nPSOc6G-p7rd",
      "execution_count": null,
      "outputs": [
        {
          "output_type": "stream",
          "name": "stderr",
          "text": [
            "\u001b[1m\u001b[22m`stat_bin()` using `bins = 30`. Pick better value with `binwidth`.\n"
          ]
        },
        {
          "output_type": "display_data",
          "data": {
            "text/plain": [
              "plot without title"
            ],
            "image/png": "[encoded data removed]"
          },
          "metadata": {
            "image/png": {
              "width": 420,
              "height": 420
            }
          }
        }
      ]
    },
    {
      "cell_type": "markdown",
      "source": [
        "From the histogram, we see that a lot of the data is between about 0.6 and 0.9. this is consistent with what we found when looking at the standard deviation."
      ],
      "metadata": {
        "id": "qhKkovzuuLwa"
      },
      "id": "qhKkovzuuLwa"
    },
    {
      "cell_type": "markdown",
      "source": [
        "### $\\color{magenta}{\\text{Your Turn!}}$\n",
        "\n",
        "Now you make a histogram for the artist polularity. Take some time to play around with the colours of your visual!"
      ],
      "metadata": {
        "id": "nTqhF_zNuaIu"
      },
      "id": "nTqhF_zNuaIu"
    },
    {
      "cell_type": "code",
      "source": [
        "#Enter your code here"
      ],
      "metadata": {
        "id": "u_q8GM_NuLbC"
      },
      "id": "u_q8GM_NuLbC",
      "execution_count": null,
      "outputs": []
    },
    {
      "cell_type": "markdown",
      "source": [
        "## $\\color{Teal}{\\text{Learning Activity}}$\n",
        "\n",
        "Let's use all of our new knowledge to answer some questions about our dataset.\n",
        "\n",
        "For these next questions we will look at the tempo."
      ],
      "metadata": {
        "id": "EpMEgYMbu_00"
      },
      "id": "EpMEgYMbu_00"
    },
    {
      "cell_type": "markdown",
      "source": [
        "##### $\\color{magenta}{\\text{Q1: Maximum}}$\n",
        "\n",
        "What is the fastest tempo in our dataset?"
      ],
      "metadata": {
        "id": "qS5264OszEq5"
      },
      "id": "qS5264OszEq5"
    },
    {
      "cell_type": "code",
      "source": [
        "#Enter your code here"
      ],
      "metadata": {
        "id": "sw8hnRMrzLx0"
      },
      "id": "sw8hnRMrzLx0",
      "execution_count": null,
      "outputs": []
    },
    {
      "cell_type": "markdown",
      "source": [
        "Double click here to answer the question."
      ],
      "metadata": {
        "id": "dN6h-C-qzNDA"
      },
      "id": "dN6h-C-qzNDA"
    },
    {
      "cell_type": "markdown",
      "source": [
        "### $\\color{magenta}{\\text{Q2: Mean}}$\n",
        "\n",
        "What is the average tempo in our data?"
      ],
      "metadata": {
        "id": "J0A7910DzmdD"
      },
      "id": "J0A7910DzmdD"
    },
    {
      "cell_type": "code",
      "source": [
        "#Enter your code here"
      ],
      "metadata": {
        "id": "PNCo76e40iSk"
      },
      "id": "PNCo76e40iSk",
      "execution_count": null,
      "outputs": []
    },
    {
      "cell_type": "markdown",
      "source": [
        "Double click here to answer the question."
      ],
      "metadata": {
        "id": "vTUXE31D0mfZ"
      },
      "id": "vTUXE31D0mfZ"
    },
    {
      "cell_type": "markdown",
      "source": [
        "### $\\color{magenta}{\\text{Q3: Standard Deviation}}$\n",
        "\n",
        "Calculate the standard deviation of the tempo. Use this information to determine where 95% of the tempos are."
      ],
      "metadata": {
        "id": "bje-XSmn0pQN"
      },
      "id": "bje-XSmn0pQN"
    },
    {
      "cell_type": "code",
      "source": [
        "# Enter your code here"
      ],
      "metadata": {
        "id": "fVlLyT3U04VY"
      },
      "id": "fVlLyT3U04VY",
      "execution_count": null,
      "outputs": []
    },
    {
      "cell_type": "markdown",
      "source": [
        "Double click here to answer the question."
      ],
      "metadata": {
        "id": "EivwhuUk031S"
      },
      "id": "EivwhuUk031S"
    },
    {
      "cell_type": "markdown",
      "source": [
        "### $\\color{magenta}{\\text{Q4: Histogram}}$\n",
        "\n",
        "Create a histogram of the tempo data. Choose your favourite colour, and make sure to label the axes correctly. What do you notice about the histogram?"
      ],
      "metadata": {
        "id": "uRPG6GtC0-G9"
      },
      "id": "uRPG6GtC0-G9"
    },
    {
      "cell_type": "code",
      "source": [
        "#Enter your code here"
      ],
      "metadata": {
        "id": "nhBrPPUM1LlW"
      },
      "id": "nhBrPPUM1LlW",
      "execution_count": null,
      "outputs": []
    },
    {
      "cell_type": "markdown",
      "source": [
        "Double click here to type your answer."
      ],
      "metadata": {
        "id": "WggN4ja91V_Z"
      },
      "id": "WggN4ja91V_Z"
    }
  ],
  "metadata": {
    "kernelspec": {
      "display_name": "R",
      "language": "R",
      "name": "ir"
    },
    "language_info": {
      "codemirror_mode": "r",
      "file_extension": ".r",
      "mimetype": "text/x-r-source",
      "name": "R",
      "pygments_lexer": "r",
      "version": "4.4.1"
    },
    "colab": {
      "provenance": []
    }
  },
  "nbformat": 4,
  "nbformat_minor": 5
}